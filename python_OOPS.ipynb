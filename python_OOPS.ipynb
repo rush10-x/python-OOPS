{
  "nbformat": 4,
  "nbformat_minor": 0,
  "metadata": {
    "colab": {
      "provenance": []
    },
    "kernelspec": {
      "name": "python3",
      "display_name": "Python 3"
    },
    "language_info": {
      "name": "python"
    }
  },
  "cells": [
    {
      "cell_type": "markdown",
      "source": [
        "# **THEORY QUESTIONS**"
      ],
      "metadata": {
        "id": "X2nlQbeHjcFI"
      }
    },
    {
      "cell_type": "markdown",
      "source": [
        "Q1.What is Object-Oriented Programming (OOP)?\n",
        "- Object-Oriented Programming (OOP) is a programming paradigm that uses \"objects\" to represent data and methods to manipulate that data. OOP is based on several key concepts, including encapsulation, inheritance, polymorphism, and abstraction. It allows for the creation of modular, reusable code and helps in organizing complex programs by modeling real-world entities.\n",
        "\n",
        "Q2. What is a class in OOP?\n",
        "- A class in OOP is a blueprint or template for creating objects. It defines a set of attributes (data) and methods (functions) that the created objects will have. Classes encapsulate data for the object and provide a way to define behaviors associated with that data. For example, a Car class might have attributes like color and model, and methods like drive() and stop().\n",
        "\n",
        "Q3. What is an object in OOP?\n",
        "- An object is an instance of a class. It is a concrete representation of the class that contains actual values for the attributes defined in the class. Objects can interact with one another and can be manipulated using the methods defined in their class. For example, if Car is a class, then my_car could be an object of that class with specific values for color and model.\n",
        "\n",
        "Q4. What is the difference between abstraction and encapsulation?\n",
        "\n",
        "- Abstraction is the concept of hiding the complex reality while exposing only the necessary parts. It allows a programmer to focus on interactions at a higher level without needing to understand the intricate details. For example, when using a car, you know how to drive it without needing to understand how the engine works.\n",
        "- Encapsulation, on the other hand, is the bundling of data (attributes) and methods (functions) that operate on the data into a single unit, or class. It restricts direct access to some of the object's components, which is a means of preventing unintended interference and misuse of the methods and data. This is often achieved through access modifiers (like private, protected, and public).\n",
        "\n",
        "\n",
        "Q5. What are dunder methods in Python?\n",
        "\n",
        "- Dunder methods, short for \"double underscore\" methods, are special methods in Python that have double underscores at the beginning and end of their names (e.g., __init__, __str__, __repr__). These methods allow you to define the behavior of your objects for built-in operations. For example:\n",
        "\n",
        "1. __init__: Initializes a new object.\n",
        "2. __str__: Defines a string representation of the object, used by the print() function.\n",
        "3. __repr__: Defines a more formal string representation of the object, often used for debugging.\n",
        "4. __add__: Allows the use of the + operator to add two objects together.\n",
        "\n",
        "Dunder methods enable you to customize the behavior of your objects in a way that integrates seamlessly with Python's syntax and built-in functions.\n",
        "\n",
        "Q6. Explain the concept of inheritance in OOP\n",
        "- Inheritance is a fundamental concept in OOP that allows a new class (called a subclass or derived class) to inherit attributes and methods from an existing class (called a superclass or base class). This promotes code reusability and establishes a hierarchical relationship between classes.\n",
        "\n",
        "For example, if you have a base class Animal with methods like eat() and sleep(), you can create a subclass Dog that inherits these methods and can also have its own methods like bark(). This way, Dog can use the functionality of Animal without rewriting the code.\n",
        "\n",
        "\n",
        "Q7. What is polymorphism in OOP?\n",
        "- Polymorphism is another core concept in OOP that allows objects of different classes to be treated as objects of a common superclass. It enables a single interface to represent different underlying forms (data types).\n",
        "\n",
        "In practical terms, polymorphism allows methods to be defined in a base class and overridden in derived classes. For example, if both Dog and Cat classes inherit from an Animal class and implement a method make_sound(), you can call make_sound() on an Animal reference that could point to either a Dog or a Cat, and the appropriate method will be executed based on the actual object type.\n",
        "\n",
        "Q8. How is encapsulation achieved in Python?\n",
        "- Encapsulation is the bundling of data (attributes) and methods (functions) that operate on the data into a single unit, typically a class. It restricts direct access to some of an object's components, which can prevent the accidental modification of data.\n",
        "\n",
        "In Python, encapsulation is achieved through the use of access modifiers:\n",
        "\n",
        "- Public: Attributes and methods are accessible from outside the class.\n",
        "- Protected: Attributes and methods are prefixed with a single underscore (e.g., _attribute), indicating they should not be accessed directly outside the class or its subclasses.\n",
        "- Private: Attributes and methods are prefixed with double underscores (e.g., __attribute), making them inaccessible from outside the class.\n",
        "\n",
        "\n",
        "Q9. What is a constructor in Python?\n",
        "- A constructor in Python is a special method called __init__() that is automatically invoked when an object of a class is created. It is used to initialize the object's attributes and set up any necessary state.\n",
        "\n",
        "\n",
        "Q10.What are class and static methods in Python?\n",
        "- In Python, class methods and static methods are two types of methods that can be defined within a class.\n",
        "\n",
        "- Class Method: A class method is defined using the @classmethod decorator and takes cls as its first parameter, which refers to the class itself. Class methods can access and modify class state that applies across all instances of the class.\n",
        "- Static Method: A static method is defined using the @staticmethod decorator and does not take self or cls as its first parameter. It behaves like a regular function but belongs to the class's namespace. Static methods cannot access or modify class or instance state.\n",
        "\n",
        "\n",
        "\n",
        "Q11. What is method overloading in Python?\n",
        "- Method overloading refers to the ability to define multiple methods with the same name but different parameters (i.e., different types or numbers of arguments) within the same class. However, Python does not support method overloading in the traditional sense as seen in languages like Java or C++. Instead, you can achieve similar functionality by using default arguments or variable-length arguments (using *args and **kwargs).\n",
        "\n",
        "Q12. What is method overriding in OOP?\n",
        "- Method overriding occurs when a subclass provides a specific implementation of a method that is already defined in its superclass. The method in the subclass has the same name, return type, and parameters as the method in the superclass. This allows the subclass to provide a specific behavior while still maintaining the interface of the superclass.\n",
        "\n",
        "\n",
        "Q13. What is a property decorator in Python?\n",
        "- The @property decorator in Python is used to define a method as a property, allowing you to access it like an attribute. This is useful for encapsulating private attributes and providing getter and setter methods in a more Pythonic way. It allows you to control access to an attribute and add logic when getting or setting its value.\n",
        "\n",
        "Q14. Why is polymorphism important in OOP?\n",
        "- Polymorphism is important in Object-Oriented Programming (OOP) because it allows objects of different classes to be treated as objects of a common superclass. This enables a single interface to represent different underlying forms (data types). Polymorphism promotes flexibility and reusability in code, allowing for easier maintenance and the ability to extend functionality without modifying existing code.\n",
        "\n",
        "\n",
        "Q15. What is an abstract class in Python?\n",
        "- An abstract class in Python is a class that cannot be instantiated and is meant to be subclassed. It can contain abstract methods (methods that are declared but contain no implementation) that must be implemented by any concrete subclass. Abstract classes are defined using the abc module, which provides the ABC class and the @abstractmethod decorator.\n",
        "\n",
        "\n",
        "Q16. What are the advantages of OOP?\n",
        "\n",
        "Object-Oriented Programming (OOP) offers several advantages:\n",
        "\n",
        "- Encapsulation: OOP allows bundling of data (attributes) and methods (functions) that operate on the data into a single unit called a class. This helps in hiding the internal state of the object and only exposing a controlled interface.\n",
        "\n",
        "- Inheritance: OOP supports inheritance, which allows a new class (subclass) to inherit attributes and methods from an existing class (superclass). This promotes code reuse and establishes a hierarchical relationship between classes.\n",
        "\n",
        "- Polymorphism: OOP allows methods to be defined in different classes with the same name but different implementations. This enables a single interface to represent different underlying forms (data types).\n",
        "\n",
        "- Abstraction: OOP enables the creation of abstract classes and interfaces, allowing developers to define methods that must be created within any child classes, while hiding complex implementation details.\n",
        "\n",
        "- Modularity: OOP promotes modularity, making it easier to manage and maintain code. Each class can be developed, tested, and debugged independently.\n",
        "\n",
        "\n",
        "Q17. What is multiple inheritance in Python?\n",
        "- Multiple inheritance in Python is a feature that allows a class to inherit from more than one parent class. This means that a derived class can access attributes and methods from multiple base classes. While this can be powerful and promote code reuse, it can also lead to complexity, especially in cases where the same method is defined in multiple parent classes (the \"diamond problem\"). Python uses the Method Resolution Order (MRO) to determine the order in which base classes are searched when executing a method.\n",
        "\n",
        "\n",
        "Q18. What is the difference between a class variable and an instance variable?\n",
        "\n",
        "\n",
        "Class Variable:\n",
        "\n",
        "- Defined within a class but outside any instance methods.\n",
        "- Shared among all instances of the class.\n",
        "- Changes to the class variable affect all instances.\n",
        "\n",
        "Instance Variable:\n",
        "\n",
        "- Defined within instance methods, typically in the __init__ method.\n",
        "- Unique to each instance of the class.\n",
        "- Changes to an instance variable only affect that specific instance.\n",
        "\n",
        "\n",
        "Q19. Explain the purpose of __str__ and __repr__ methods in Python.\n",
        "\n",
        "\n",
        "__str__:\n",
        "\n",
        "- Intended to provide a user-friendly string representation of an object.\n",
        "- Used by the print() function and str() to display information in a readable format.\n",
        "\n",
        "\n",
        "\n",
        "__repr__:\n",
        "\n",
        "- Aimed at providing an unambiguous representation of an object, primarily for debugging.\n",
        "- Ideally, eval(repr(object)) should recreate the object, making it more informative for developers.\n",
        "\n",
        "\n",
        "Q20. What is the significance of the super() function in Python?\n",
        "\n",
        "\n",
        "The super() function in Python is used to call methods from a parent class within a child class. Its significance includes:\n",
        "\n",
        "- Method Resolution Order (MRO): It helps in determining the order in which base classes are searched when executing a method, especially in cases of multiple inheritance.\n",
        "\n",
        "- Code Reusability: It allows the child class to reuse methods from the parent class without explicitly naming the parent class, making the code more maintainable and flexible.\n",
        "\n",
        "- Cooperative Inheritance: It enables a child class to call methods from multiple parent classes in a controlled manner, facilitating cooperative behavior in complex class hierarchies.\n",
        "\n",
        "\n",
        "\n",
        "\n",
        "Q21. What is the significance of the del method in Python?\n",
        "\n",
        "\n",
        "Significance of the __del__ Method in Python\n",
        "- The __del__ method is known as a destructor.\n",
        "\n",
        "- It is invoked when an object is about to be destroyed, allowing for cleanup actions.\n",
        "\n",
        "- It can be used to release resources, such as closing files or network connections.\n",
        "\n",
        "- However, its execution is not guaranteed, especially in the presence of circular references, making it less reliable than context managers or explicit cleanup methods.\n",
        "\n",
        "\n",
        "Q22. What is the difference between @staticmethod and @classmethod in Python?\n",
        "\n",
        "\n",
        "@staticmethod:\n",
        "\n",
        "- Does not require a reference to the instance (self) or the class (cls).\n",
        "- It behaves like a regular function but is included in the class for better organization.\n",
        "- Useful for utility functions that do not need access to class or instance data.\n",
        "\n",
        "\n",
        "@classmethod:\n",
        "\n",
        "- Takes the class (cls) as its first parameter.\n",
        "\n",
        "- Can modify class-level attributes and is often used as a factory method.\n",
        "\n",
        "- It can be called on the class itself or on an instance of the class.\n",
        "\n",
        "\n",
        "\n",
        "Q23. How does polymorphism work in Python with inheritance?\n",
        "\n",
        "- Polymorphism allows methods to be defined in a parent class and overridden in child classes.\n",
        "\n",
        "- This enables different classes to implement the same method in ways that are specific to their needs.\n",
        "\n",
        "- For example, a method sound() in a parent class Animal can be overridden in subclasses like Dog and Cat to produce different sounds.\n",
        "\n",
        "- This allows for a unified interface while enabling specific behaviors based on the object type.\n",
        "\n",
        "\n",
        "Q24. What is method chaining in Python OOP?\n",
        "\n",
        "- Method chaining is a technique where multiple methods are called on the same object in a single statement.\n",
        "\n",
        "- Each method returns the object itself (self), allowing for subsequent method calls.\n",
        "\n",
        "- This creates a fluent interface, making the code more readable and concise.\n",
        "\n",
        "\n",
        "Q25. What is the purpose of the call method in Python?\n",
        "- The __call__ method allows an instance of a class to be called as if it were a function.\n",
        "- This enables instances to have callable behavior, which can be useful for creating objects that need to perform actions when invoked.\n",
        "- It can be used to implement functionality similar to functions while maintaining the state of the object.\n",
        "\n",
        "\n",
        "\n",
        "\n",
        "\n"
      ],
      "metadata": {
        "id": "DDzWaySQjmEc"
      }
    },
    {
      "cell_type": "markdown",
      "source": [
        "#  **PRACTICAL QUESTIONS**"
      ],
      "metadata": {
        "id": "IItLS_Vespl5"
      }
    },
    {
      "cell_type": "code",
      "source": [
        "# Q1. Create a parent class Animal with a method speak() that prints a generic message. Create a child class Dog that overrides the speak() method to print \"Bark!\".\n",
        "class Animal:\n",
        "    def speak(self):\n",
        "        print(\"Animal makes a sound.\")\n",
        "\n",
        "class Dog(Animal):\n",
        "    def speak(self):\n",
        "        print(\"Bark!\")\n",
        "\n",
        "# Example usage\n",
        "dog = Dog()\n",
        "dog.speak()"
      ],
      "metadata": {
        "colab": {
          "base_uri": "https://localhost:8080/"
        },
        "id": "kPgdlELUxxH7",
        "outputId": "5cb25428-9277-48db-827d-845aba6c0e72"
      },
      "execution_count": null,
      "outputs": [
        {
          "output_type": "stream",
          "name": "stdout",
          "text": [
            "Bark!\n"
          ]
        }
      ]
    },
    {
      "cell_type": "code",
      "source": [
        "# Q2. Write a program to create an abstract class Shape with a method area(). Derive classes Circle and Rectangle from it and implement the area() method in both.\n",
        "\n",
        "from abc import ABC, abstractmethod\n",
        "import math\n",
        "\n",
        "class Shape(ABC):\n",
        "    @abstractmethod\n",
        "    def area(self):\n",
        "        pass\n",
        "\n",
        "class Circle(Shape):\n",
        "    def __init__(self, radius):\n",
        "        self.radius = radius\n",
        "\n",
        "    def area(self):\n",
        "        return math.pi * (self.radius ** 2)\n",
        "\n",
        "class Rectangle(Shape):\n",
        "    def __init__(self, width, height):\n",
        "        self.width = width\n",
        "        self.height = height\n",
        "\n",
        "    def area(self):\n",
        "        return self.width * self.height\n",
        "\n",
        "# Example usage\n",
        "circle = Circle(5)\n",
        "rectangle = Rectangle(4, 6)\n",
        "print(circle.area())\n",
        "print(rectangle.area())"
      ],
      "metadata": {
        "colab": {
          "base_uri": "https://localhost:8080/"
        },
        "id": "jd4Ar7k9z6SY",
        "outputId": "54ff865b-e42b-493a-acd2-072959b2639a"
      },
      "execution_count": null,
      "outputs": [
        {
          "output_type": "stream",
          "name": "stdout",
          "text": [
            "78.53981633974483\n",
            "24\n"
          ]
        }
      ]
    },
    {
      "cell_type": "code",
      "source": [
        "# Q3. Implement a multi-level inheritance scenario where a class Vehicle has an attribute type. Derive a class Car and further derive a class ElectricCar that adds a battery attribute.?\n",
        "\n",
        "class Vehicle:\n",
        "    def __init__(self, type):\n",
        "        self.type = type\n",
        "\n",
        "class Car(Vehicle):\n",
        "    def __init__(self, type, model):\n",
        "        super().__init__(type)\n",
        "        self.model = model\n",
        "\n",
        "class ElectricCar(Car):\n",
        "    def __init__(self, type, model, battery):\n",
        "        super().__init__(type, model)\n",
        "        self.battery = battery\n",
        "\n",
        "# Example usage\n",
        "my_electric_car = ElectricCar(\"Electric\", \"Tesla Model S\", \"100 kWh\")\n",
        "print(my_electric_car.type)\n",
        "print(my_electric_car.model)\n",
        "print(my_electric_car.battery)"
      ],
      "metadata": {
        "colab": {
          "base_uri": "https://localhost:8080/"
        },
        "id": "nCDSKXYn0KFy",
        "outputId": "5fcb79d8-1928-43b8-aa74-ab0a6a914d0e"
      },
      "execution_count": null,
      "outputs": [
        {
          "output_type": "stream",
          "name": "stdout",
          "text": [
            "Electric\n",
            "Tesla Model S\n",
            "100 kWh\n"
          ]
        }
      ]
    },
    {
      "cell_type": "code",
      "source": [
        "# Q4. Demonstrate polymorphism by creating a base class Bird with a method fly(). Create two derived classes Sparrow and Penguin that override the fly() method.\n",
        "\n",
        "class Bird:\n",
        "    def fly(self):\n",
        "        print(\"Bird is flying.\")\n",
        "\n",
        "class Sparrow(Bird):\n",
        "    def fly(self):\n",
        "        print(\"Sparrow is flying high.\")\n",
        "\n",
        "class Penguin(Bird):\n",
        "    def fly(self):\n",
        "        print(\"Penguins can't fly.\")\n",
        "\n",
        "# Example usage\n",
        "birds = [Sparrow(), Penguin()]\n",
        "for bird in birds:\n",
        "    bird.fly()\n"
      ],
      "metadata": {
        "colab": {
          "base_uri": "https://localhost:8080/"
        },
        "id": "pUYT7PCJ0X8k",
        "outputId": "4864a9c8-3896-4685-d0ff-08f206a0f370"
      },
      "execution_count": null,
      "outputs": [
        {
          "output_type": "stream",
          "name": "stdout",
          "text": [
            "Sparrow is flying high.\n",
            "Penguins can't fly.\n"
          ]
        }
      ]
    },
    {
      "cell_type": "code",
      "source": [
        "# Q5. Write a program to demonstrate encapsulation by creating a class BankAccount with private attributes balance and methods to deposit, withdraw, and check balance.\n",
        "\n",
        "class BankAccount:\n",
        "    def __init__(self):\n",
        "        self.__balance = 0  # Private attribute\n",
        "\n",
        "    def deposit(self, amount):\n",
        "        if amount > 0:\n",
        "            self.__balance += amount\n",
        "            print(f\"Deposited: {amount}\")\n",
        "        else:\n",
        "            print(\"Deposit amount must be positive.\")\n",
        "\n",
        "    def withdraw(self, amount):\n",
        "        if 0 < amount <= self.__balance:\n",
        "            self.__balance -= amount\n",
        "            print(f\"Withdrew: {amount}\")\n",
        "        else:\n",
        "            print(\"Invalid withdrawal amount.\")\n",
        "\n",
        "    def check_balance(self):\n",
        "        return self.__balance\n",
        "\n",
        "# Example usage\n",
        "account = BankAccount()\n",
        "account.deposit(100)\n",
        "account.withdraw(50)\n",
        "print(account.check_balance())"
      ],
      "metadata": {
        "colab": {
          "base_uri": "https://localhost:8080/"
        },
        "id": "6-6-SD9T0lVc",
        "outputId": "46567e29-c06c-45e3-ecc1-9f5c13de9c67"
      },
      "execution_count": null,
      "outputs": [
        {
          "output_type": "stream",
          "name": "stdout",
          "text": [
            "Deposited: 100\n",
            "Withdrew: 50\n",
            "50\n"
          ]
        }
      ]
    },
    {
      "cell_type": "code",
      "source": [
        "# Q6. Demonstrate runtime polymorphism using a method play() in a base class Instrument. Derive classes Guitar and Piano that implement their own version of play()?\n",
        "\n",
        "class Instrument:\n",
        "    def play(self):\n",
        "        raise NotImplementedError(\"Subclasses must implement this method\")\n",
        "\n",
        "class Guitar(Instrument):\n",
        "    def play(self):\n",
        "        return \"Strumming the guitar\"\n",
        "\n",
        "class Piano(Instrument):\n",
        "    def play(self):\n",
        "        return \"Playing the piano\"\n",
        "\n",
        "# Demonstration of runtime polymorphism\n",
        "def perform(instrument: Instrument):\n",
        "    print(instrument.play())\n",
        "\n",
        "guitar = Guitar()\n",
        "piano = Piano()\n",
        "\n",
        "perform(guitar)\n",
        "perform(piano)"
      ],
      "metadata": {
        "colab": {
          "base_uri": "https://localhost:8080/"
        },
        "id": "WkUW6OoO03h-",
        "outputId": "9f83706c-9ee2-42b1-bf1f-ebe1a15bb719"
      },
      "execution_count": null,
      "outputs": [
        {
          "output_type": "stream",
          "name": "stdout",
          "text": [
            "Strumming the guitar\n",
            "Playing the piano\n"
          ]
        }
      ]
    },
    {
      "cell_type": "code",
      "source": [
        "# Q7. Create a class MathOperations with a class method add_numbers() to add two numbers and a static method subtract_numbers() to subtract two numbers?\n",
        "\n",
        "class MathOperations:\n",
        "    @classmethod\n",
        "    def add_numbers(cls, a, b):\n",
        "        return a + b\n",
        "\n",
        "    @staticmethod\n",
        "    def subtract_numbers(a, b):\n",
        "        return a - b\n",
        "\n",
        "# Example usage\n",
        "sum_result = MathOperations.add_numbers(5, 3)  # Output: 8\n",
        "difference_result = MathOperations.subtract_numbers(5, 3)  # Output: 2\n",
        "\n",
        "print(sum_result)\n",
        "print(difference_result)\n"
      ],
      "metadata": {
        "colab": {
          "base_uri": "https://localhost:8080/"
        },
        "id": "2YFoGjLe1jEc",
        "outputId": "098328cd-e577-4b86-e476-dbf9945a8856"
      },
      "execution_count": null,
      "outputs": [
        {
          "output_type": "stream",
          "name": "stdout",
          "text": [
            "8\n",
            "2\n"
          ]
        }
      ]
    },
    {
      "cell_type": "code",
      "source": [
        "# Q8. Implement a class Person with a class method to count the total number of persons created?\n",
        "\n",
        "class Person:\n",
        "    count = 0\n",
        "\n",
        "    def __init__(self):\n",
        "        Person.count += 1\n",
        "\n",
        "    @classmethod\n",
        "    def total_persons(cls):\n",
        "        return cls.count\n",
        "\n",
        "# Example usage\n",
        "p1 = Person()\n",
        "p2 = Person()\n",
        "p3 = Person()\n",
        "\n",
        "print(Person.total_persons())"
      ],
      "metadata": {
        "colab": {
          "base_uri": "https://localhost:8080/"
        },
        "id": "ggCYZj941oII",
        "outputId": "3236014a-ee49-4bb9-f277-f585a7663816"
      },
      "execution_count": null,
      "outputs": [
        {
          "output_type": "stream",
          "name": "stdout",
          "text": [
            "3\n"
          ]
        }
      ]
    },
    {
      "cell_type": "code",
      "source": [
        "# Q9. Write a class Fraction with attributes numerator and denominator. Override the str method to display the fraction as \"numerator/denominator\"?\n",
        "\n",
        "class Fraction:\n",
        "    def __init__(self, numerator, denominator):\n",
        "        self.numerator = numerator\n",
        "        self.denominator = denominator\n",
        "\n",
        "    def __str__(self):\n",
        "        return f\"{self.numerator}/{self.denominator}\"\n",
        "\n",
        "# Example usage\n",
        "fraction = Fraction(3, 4)\n",
        "print(fraction)"
      ],
      "metadata": {
        "colab": {
          "base_uri": "https://localhost:8080/"
        },
        "id": "dnp0lF9U1sRc",
        "outputId": "328fd114-4813-4f6f-9134-3d644f0a3dc1"
      },
      "execution_count": null,
      "outputs": [
        {
          "output_type": "stream",
          "name": "stdout",
          "text": [
            "3/4\n"
          ]
        }
      ]
    },
    {
      "cell_type": "code",
      "source": [
        "# Q10. Demonstrate operator overloading by creating a class Vector and overriding the add method to add two Vectors ?\n",
        "\n",
        "class Vector:\n",
        "    def __init__(self, x, y):\n",
        "        self.x = x\n",
        "        self.y = y\n",
        "\n",
        "    def __add__(self, other):\n",
        "        if isinstance(other, Vector):\n",
        "            return Vector(self.x + other.x, self.y + other.y)\n",
        "        return NotImplemented\n",
        "\n",
        "    def __str__(self):\n",
        "        return f\"Vector({self.x}, {self.y})\"\n",
        "\n",
        "# Example usage\n",
        "v1 = Vector(2, 3)\n",
        "v2 = Vector(4, 5)\n",
        "v3 = v1 + v2\n",
        "\n",
        "print(v3)"
      ],
      "metadata": {
        "colab": {
          "base_uri": "https://localhost:8080/"
        },
        "id": "3KC059Fk1wV8",
        "outputId": "98f35fe5-4854-4938-e94e-d257b6e9e186"
      },
      "execution_count": null,
      "outputs": [
        {
          "output_type": "stream",
          "name": "stdout",
          "text": [
            "Vector(6, 8)\n"
          ]
        }
      ]
    },
    {
      "cell_type": "code",
      "source": [
        "# Q11. Create a class Person with attributes name and age. Add a method greet() that prints \"Hello, my name is {name} and I am {age} years old.\"\n",
        "\n",
        "class Person:\n",
        "  def __init__(self, name, age):\n",
        "    self.name = name\n",
        "    self.age = age\n",
        "  def greet(self):\n",
        "    print(f\"Hello, my name is {self.name} and i am {self.age} years old\")\n",
        "p1 = Person(\"Rushika\", 22)\n",
        "p2 = Person(\"Shwetakshi\", 23)\n",
        "p1.greet()\n",
        "p2.greet()"
      ],
      "metadata": {
        "colab": {
          "base_uri": "https://localhost:8080/"
        },
        "id": "UzduKcT0Phx6",
        "outputId": "b084c2ad-e1f3-4221-c4c4-7cb2706ccbb7"
      },
      "execution_count": 3,
      "outputs": [
        {
          "output_type": "stream",
          "name": "stdout",
          "text": [
            "Hello, my name is Rushika and i am 22 years old\n",
            "Hello, my name is Shwetakshi and i am 23 years old\n"
          ]
        }
      ]
    },
    {
      "cell_type": "code",
      "source": [
        "# Q12.  Implement a class Student with attributes name and grades. Create a method average_grade() to compute the average of the grades\n",
        "\n",
        "class Student:\n",
        "  def __init__(self, name, grades):\n",
        "    self.name = name\n",
        "    self.grades = grades\n",
        "  def average_grades(self):\n",
        "    return sum(self.grades) / len(self.grades) if self.grades else 0\n",
        "s1 = Student(\"Shwetakshi\", [88,70,80])\n",
        "s2 = Student(\"Rushika\", [78,88,51])\n",
        "print(f\"{s1.name}'s average grade: {s1.average_grades()}\")\n",
        "print(f\"{s2.name}'s average grade: {s2.average_grades()}\")"
      ],
      "metadata": {
        "colab": {
          "base_uri": "https://localhost:8080/"
        },
        "id": "9oM80krcP3Kv",
        "outputId": "2c4456f9-d3df-455e-ea43-86221ed89db2"
      },
      "execution_count": 4,
      "outputs": [
        {
          "output_type": "stream",
          "name": "stdout",
          "text": [
            "Shwetakshi's average grade: 79.33333333333333\n",
            "Rushika's average grade: 72.33333333333333\n"
          ]
        }
      ]
    },
    {
      "cell_type": "code",
      "source": [
        "# Q13. Create a class Rectangle with methods set_dimensions() to set the dimensions and area() to calculate the area.\n",
        "\n",
        "class Rectangle:\n",
        "  def __init__(self):\n",
        "    self.height = 0\n",
        "    self.width = 0\n",
        "  def self_dimensions(self, width, height):\n",
        "    self.width = width\n",
        "    self.height = height\n",
        "  def area(self):\n",
        "    return self.width * self.height\n",
        "rect = Rectangle()\n",
        "rect.self_dimensions(20,30)\n",
        "print(f\"Rectangle area: {rect.area()}\")\n",
        ""
      ],
      "metadata": {
        "colab": {
          "base_uri": "https://localhost:8080/"
        },
        "id": "jcjvbd1IQnxy",
        "outputId": "7a1cb741-bbf2-4064-fe87-a5b916d1c033"
      },
      "execution_count": 5,
      "outputs": [
        {
          "output_type": "stream",
          "name": "stdout",
          "text": [
            "Rectangle area: 600\n"
          ]
        }
      ]
    },
    {
      "cell_type": "code",
      "source": [
        "# Q14. Create a class Employee with a method calculate_salary() that computes the salary based on hours worked and hourly rate. Create a derived class Manager that adds a bonus to the salary.\n",
        "\n",
        "class Employee:\n",
        "  def __init__(self, name, hours_worked, hourly_rate):\n",
        "    self.name = name\n",
        "    self.hours_worked = hours_worked\n",
        "    self.hourly_rate = hourly_rate\n",
        "  def calculate_salary(self):\n",
        "    return self.hours_worked * self.hourly_rate\n",
        "class Manager(Employee):\n",
        "  def __init__(self, name, hours_worked, hourly_rate, bonus):\n",
        "    super().__init__(name, hours_worked, hourly_rate)\n",
        "    self.bonus = bonus\n",
        "  def calculate_salary(self):\n",
        "    return super().calculate_salary() + self.bonus\n",
        "emp = Employee(\"Rushika\", 60, 80)\n",
        "manager = Manager(\"Shwetakshi\", 50, 100, 1000)\n",
        "\n",
        "print(f\"{emp.name}'s salary: ${emp.calculate_salary()}\")\n",
        "print(f\"{manager.name}'s salary: ${manager.calculate_salary()}\")"
      ],
      "metadata": {
        "colab": {
          "base_uri": "https://localhost:8080/"
        },
        "id": "lJnr3BYQR7s_",
        "outputId": "1cac98fe-2dec-4478-dcb1-e36276b5abc1"
      },
      "execution_count": 10,
      "outputs": [
        {
          "output_type": "stream",
          "name": "stdout",
          "text": [
            "Rushika's salary: $4800\n",
            "Shwetakshi's salary: $6000\n"
          ]
        }
      ]
    },
    {
      "cell_type": "code",
      "source": [
        "# Q15. Create a class Product with attributes name, price, and quantity. Implement a method total_price() that calculates the total price of the product.\n",
        "\n",
        "class Product:\n",
        "  def __init__(self, name, price, quantity):\n",
        "    self.name = name\n",
        "    self.price = price\n",
        "    self.quantity = quantity\n",
        "  def total_price(self):\n",
        "    return self.price * self.quantity\n",
        "product1 = Product(\"Laptop\", 50000, 2)\n",
        "product2 = Product(\"Motarcycle\", 120000, 2)\n",
        "\n",
        "print(f\"Total price of {product1.name}: ${product1.total_price()}\")\n",
        "print(f\"Total price of {product2.name}: ${product2.total_price()}\")"
      ],
      "metadata": {
        "colab": {
          "base_uri": "https://localhost:8080/"
        },
        "id": "pgoZJafQQ0r9",
        "outputId": "3834ef5f-d302-4577-b72d-dc3f8e0d39c6"
      },
      "execution_count": 11,
      "outputs": [
        {
          "output_type": "stream",
          "name": "stdout",
          "text": [
            "Total price of Laptop: $100000\n",
            "Total price of Motarcycle: $240000\n"
          ]
        }
      ]
    },
    {
      "cell_type": "code",
      "source": [
        "# Q16.  Create a class Animal with an abstract method sound(). Create two derived classes Cow and Sheep that implement the sound() method\n",
        "\n",
        "from abc import ABC, abstractmethod\n",
        "class Animal(ABC):\n",
        "  @abstractmethod\n",
        "  def sound(self):\n",
        "    pass\n",
        "class Cow(Animal):\n",
        "  def sound(self):\n",
        "    return \"Mooooo\"\n",
        "class Sheep(Animal):\n",
        "  def sound(self):\n",
        "    return \"Baaaaa\"\n",
        "cow = Cow()\n",
        "sheep = Sheep()\n",
        "\n",
        "print(f\"Cow sound: {cow.sound()}\")\n",
        "print(f\"Sheep sound: {sheep.sound()}\")\n",
        ""
      ],
      "metadata": {
        "colab": {
          "base_uri": "https://localhost:8080/"
        },
        "id": "1WlktZDOQ_HS",
        "outputId": "b0f84583-ca7c-4ec2-9441-7424af9c5bab"
      },
      "execution_count": 12,
      "outputs": [
        {
          "output_type": "stream",
          "name": "stdout",
          "text": [
            "Cow sound: Mooooo\n",
            "Sheep sound: Baaaaa\n"
          ]
        }
      ]
    },
    {
      "cell_type": "code",
      "source": [
        "# Q17.  Create a class Book with attributes title, author, and year_published. Add a method get_book_info() that returns a formatted string with the book's details.\n",
        "\n",
        "class Book:\n",
        "  def __init__(self, title, author, year_published):\n",
        "    self.title = title\n",
        "    self.author = author\n",
        "    self.year_published = year_published\n",
        "  def get_book_info(self):\n",
        "    return f\"{self.title} by {self.author}, published in {self.year_published}\"\n",
        "book1 = Book(\"1984\",\"George Orwell\", 1949)\n",
        "book2 = Book(\"To kill a Mockingbird\", \"Harper Lee\", 1960)\n",
        "print(book1.get_book_info())\n",
        "print(book2.get_book_info())\n",
        ""
      ],
      "metadata": {
        "colab": {
          "base_uri": "https://localhost:8080/"
        },
        "id": "Ag6heZ6yRFyU",
        "outputId": "ae33303b-e5fc-479b-ec9b-e3eecc46a087"
      },
      "execution_count": 13,
      "outputs": [
        {
          "output_type": "stream",
          "name": "stdout",
          "text": [
            "1984 by George Orwell, published in 1949\n",
            "To kill a Mockingbird by Harper Lee, published in 1960\n"
          ]
        }
      ]
    },
    {
      "cell_type": "code",
      "source": [
        "# Q18.  Create a class House with attributes address and price. Create a derived class Mansion that adds an attribute number_of_rooms.\n",
        "\n",
        "class House:\n",
        "  def __init__(self, address, price):\n",
        "        self.address = address\n",
        "        self.price = price\n",
        "  def get_details(self):\n",
        "    return f\"House at {self.address}, priced at ${self.price}\"\n",
        "class Mansion(House):\n",
        "  def __init__(self, address, price, number_of_rooms):\n",
        "    super().__init__(address, price)\n",
        "    self.number_of_rooms = number_of_rooms\n",
        "  def get_details(self):\n",
        "    return f\"Mansion at {self.address}, priced at ${self.price}, with {self.number_of_rooms}\"\n",
        "house = House(\"123 main SE\", 250000)\n",
        "mansion = Mansion(\"456 Luxury Ln\", 1000000, 8)\n",
        "\n",
        "print(house.get_details())\n",
        "print(mansion.get_details())\n",
        ""
      ],
      "metadata": {
        "colab": {
          "base_uri": "https://localhost:8080/"
        },
        "id": "QCEkeQ09RNxP",
        "outputId": "2f53ca20-d251-4d85-b01e-624919a59775"
      },
      "execution_count": 14,
      "outputs": [
        {
          "output_type": "stream",
          "name": "stdout",
          "text": [
            "House at 123 main SE, priced at $250000\n",
            "Mansion at 456 Luxury Ln, priced at $1000000, with 8\n"
          ]
        }
      ]
    }
  ]
}